{
 "cells": [
  {
   "cell_type": "code",
   "execution_count": 11,
   "id": "45c154e1-ca9c-4f1c-a870-0f9e316a38a8",
   "metadata": {},
   "outputs": [],
   "source": [
    "import json\n",
    "import asyncio\n",
    "from loguru import logger as log\n",
    "from scrapfly import ScrapeConfig, ScrapflyClient, ScrapeApiResponse\n",
    "from lxml import html\n",
    "from urllib.parse import urlencode, quote_plus\n",
    "\n",
    "# Initialize Scrapfly client with your API key\n",
    "SCRAPFLY = ScrapflyClient(key=\"scp-live-29eb1fea76d9446eac9f5ba0027653fc\")\n",
    "\n",
    "# Base configuration for scraping\n",
    "BASE_CONFIG = {\n",
    "    \"asp\": True,\n",
    "    \"country\": \"US\",\n",
    "    \"headers\": {\n",
    "        \"Accept-Language\": \"en-US,en;q=0.5\"\n",
    "    }\n",
    "}"
   ]
  },
  {
   "cell_type": "markdown",
   "id": "c90f58f9-3ab1-4069-b11a-e0e51b8d78bf",
   "metadata": {},
   "source": [
    "## 1. Scrape URLs of job listings from the job search page"
   ]
  },
  {
   "cell_type": "code",
   "execution_count": null,
   "id": "81da6188-d339-4d9a-b9b2-2f8477d90aed",
   "metadata": {},
   "outputs": [],
   "source": [
    "# The module parses job urls and the total number of job listings from job search pages\n",
    "async def parse_job_search(response: ScrapeApiResponse):\n",
    "        # Get the HTML content which is assigned to the key \"content\" in the response dictionary\n",
    "        content = response.scrape_result['content']\n",
    "        \n",
    "        # Parse the HTML content\n",
    "        tree = html.fromstring(content)\n",
    "        log.info(f\"tree detail: {tree}\")\n",
    "\n",
    "        # Extract job URLs which have href attributes\n",
    "        job_urls = tree.xpath('//a[contains(@class, \"base-card__full-link\")]/@href')\n",
    "        urls = []\n",
    "        for url in job_urls:\n",
    "            urls.append(url)\n",
    "\n",
    "        # Extract the number of total results\n",
    "        total_results = tree.xpath(\"//span[@class='results-context-header__job-count']/text()\")\n",
    "        total_results = int(total_results[0].strip()) if total_results else 0\n",
    "\n",
    "        # Store job URLs and the total number of results in a dictionary    \n",
    "        result = {\"urls\": urls, \"total_results\": total_results}\n",
    "        return result"
   ]
  },
  {
   "cell_type": "code",
   "execution_count": 12,
   "id": "5abd87e6-215c-4c1b-86bc-41b2a34c8543",
   "metadata": {},
   "outputs": [],
   "source": [
    "async def scrape_job_search(keyword: str, max_pages: int = None):\n",
    "\n",
    "    def form_urls_params(keyword):\n",
    "        # form the job search URL params\n",
    "        params = {'keywords': quote_plus(keyword)}\n",
    "        return urlencode(params)\n",
    "\n",
    "    # Get the response of the first page\n",
    "    first_page_url = \"https://www.linkedin.com/jobs/search?f_E=1%2C2&geoId=104195383&\" + form_urls_params(keyword)\n",
    "    first_page_response = await SCRAPFLY.async_scrape(ScrapeConfig(first_page_url, **BASE_CONFIG, render_js=True))\n",
    "    \n",
    "    # Scrape URLs of job listings in the first page and total results\n",
    "    first_page_data = await parse_job_search(first_page_response)\n",
    "    urls = first_page_data['urls']\n",
    "    total_results = first_page_data['total_results']\n",
    "\n",
    "    # Calculate the number of pages to scrape\n",
    "    if max_pages and max_pages * 25 < total_results:\n",
    "        total_results = max_pages * 25\n",
    "    log.info(f'Scraped the first job page, {total_results // 25 - 1} more pages')\n",
    "\n",
    "    # Scrape the remaining pages concurrently\n",
    "    other_pages_url = \"https://www.linkedin.com/jobs-guest/jobs/api/seeMoreJobPostings/search?f_E=1%2C2&geoId=104195383&\"\n",
    "    to_scrape = [ScrapeConfig(other_pages_url + form_urls_params(keyword) + f\"&start={index}\", **BASE_CONFIG, render_js=True)\n",
    "                 for index in range(25, total_results + 25, 25)]\n",
    "    \n",
    "    async for response in SCRAPFLY.concurrent_scrape(to_scrape):\n",
    "        if response.status_code == 200:\n",
    "            result = await parse_job_search(response)  # Await this call\n",
    "            page_urls = result['urls']\n",
    "            urls.extend(page_urls)\n",
    "            log.debug(f\"Scraped {len(page_data)} jobs from this page. Total jobs collected: {len(urls)}\")\n",
    "        else:\n",
    "            log.error(f\"Failed to scrape: Status code {response.status_code}\")\n",
    "            return None\n",
    "\n",
    "    log.success(f'Scraped {len(urls)} jobs from LinkedIn job search')\n",
    "    return urls # Return a list of urls "
   ]
  },
  {
   "cell_type": "code",
   "execution_count": 21,
   "id": "10b153bc-67cb-444c-8c35-8e556e721aa4",
   "metadata": {},
   "outputs": [
    {
     "name": "stderr",
     "output_type": "stream",
     "text": [
      "\u001b[32m2025-02-17 22:32:36.572\u001b[0m | \u001b[1mINFO    \u001b[0m | \u001b[36m__main__\u001b[0m:\u001b[36mparse_job_search\u001b[0m:\u001b[36m29\u001b[0m - \u001b[1mtree detail: <Element html at 0x1090b77f0>\u001b[0m\n",
      "\u001b[32m2025-02-17 22:32:36.573\u001b[0m | \u001b[1mINFO    \u001b[0m | \u001b[36m__main__\u001b[0m:\u001b[36mscrape_job_search\u001b[0m:\u001b[36m21\u001b[0m - \u001b[1mScraped the first job page, 3 more pages\u001b[0m\n",
      "\u001b[32m2025-02-17 22:32:44.594\u001b[0m | \u001b[1mINFO    \u001b[0m | \u001b[36m__main__\u001b[0m:\u001b[36mparse_job_search\u001b[0m:\u001b[36m29\u001b[0m - \u001b[1mtree detail: <Element html at 0x1090b4e10>\u001b[0m\n",
      "\u001b[32m2025-02-17 22:32:44.596\u001b[0m | \u001b[34m\u001b[1mDEBUG   \u001b[0m | \u001b[36m__main__\u001b[0m:\u001b[36mscrape_job_search\u001b[0m:\u001b[36m34\u001b[0m - \u001b[34m\u001b[1mScraped 2 jobs from this page. Total jobs collected: 56\u001b[0m\n",
      "\u001b[32m2025-02-17 22:32:54.119\u001b[0m | \u001b[1mINFO    \u001b[0m | \u001b[36m__main__\u001b[0m:\u001b[36mparse_job_search\u001b[0m:\u001b[36m29\u001b[0m - \u001b[1mtree detail: <Element html at 0x1090b7430>\u001b[0m\n",
      "\u001b[32m2025-02-17 22:32:54.121\u001b[0m | \u001b[34m\u001b[1mDEBUG   \u001b[0m | \u001b[36m__main__\u001b[0m:\u001b[36mscrape_job_search\u001b[0m:\u001b[36m34\u001b[0m - \u001b[34m\u001b[1mScraped 2 jobs from this page. Total jobs collected: 56\u001b[0m\n",
      "\u001b[32m2025-02-17 22:33:02.144\u001b[0m | \u001b[1mINFO    \u001b[0m | \u001b[36m__main__\u001b[0m:\u001b[36mparse_job_search\u001b[0m:\u001b[36m29\u001b[0m - \u001b[1mtree detail: <Element html at 0x109065db0>\u001b[0m\n",
      "\u001b[32m2025-02-17 22:33:02.145\u001b[0m | \u001b[34m\u001b[1mDEBUG   \u001b[0m | \u001b[36m__main__\u001b[0m:\u001b[36mscrape_job_search\u001b[0m:\u001b[36m34\u001b[0m - \u001b[34m\u001b[1mScraped 2 jobs from this page. Total jobs collected: 65\u001b[0m\n",
      "\u001b[32m2025-02-17 22:33:12.171\u001b[0m | \u001b[1mINFO    \u001b[0m | \u001b[36m__main__\u001b[0m:\u001b[36mparse_job_search\u001b[0m:\u001b[36m29\u001b[0m - \u001b[1mtree detail: <Element html at 0x1090b4e10>\u001b[0m\n",
      "\u001b[32m2025-02-17 22:33:12.173\u001b[0m | \u001b[34m\u001b[1mDEBUG   \u001b[0m | \u001b[36m__main__\u001b[0m:\u001b[36mscrape_job_search\u001b[0m:\u001b[36m34\u001b[0m - \u001b[34m\u001b[1mScraped 2 jobs from this page. Total jobs collected: 74\u001b[0m\n",
      "\u001b[32m2025-02-17 22:33:20.197\u001b[0m | \u001b[1mINFO    \u001b[0m | \u001b[36m__main__\u001b[0m:\u001b[36mparse_job_search\u001b[0m:\u001b[36m29\u001b[0m - \u001b[1mtree detail: <Element html at 0x109050370>\u001b[0m\n",
      "\u001b[32m2025-02-17 22:33:20.200\u001b[0m | \u001b[34m\u001b[1mDEBUG   \u001b[0m | \u001b[36m__main__\u001b[0m:\u001b[36mscrape_job_search\u001b[0m:\u001b[36m34\u001b[0m - \u001b[34m\u001b[1mScraped 2 jobs from this page. Total jobs collected: 82\u001b[0m\n",
      "\u001b[32m2025-02-17 22:33:20.701\u001b[0m | \u001b[32m\u001b[1mSUCCESS \u001b[0m | \u001b[36m__main__\u001b[0m:\u001b[36mscrape_job_search\u001b[0m:\u001b[36m39\u001b[0m - \u001b[32m\u001b[1mScraped 82 jobs from LinkedIn job search\u001b[0m\n"
     ]
    },
    {
     "name": "stdout",
     "output_type": "stream",
     "text": [
      "['https://vn.linkedin.com/jobs/view/associate-executive-%E2%80%93-credit-risk-management-financial-services-at-momo-m-service-4123597192?position=1&pageNum=0&refId=O0i1L5PHsGdcwZVTYClO4w%3D%3D&trackingId=xk6AfYedkcamZu6ouMyYdg%3D%3D', 'https://vn.linkedin.com/jobs/view/relationship-manager-at-orient-commercial-joint-stock-bank-ocb-4137448765?position=2&pageNum=0&refId=O0i1L5PHsGdcwZVTYClO4w%3D%3D&trackingId=mdI5JeB0n4YTt%2FIzp70V5g%3D%3D', 'https://vn.linkedin.com/jobs/view/internal-inspection-staff-at-ctbc-bank-vietnam-4148869164?position=3&pageNum=0&refId=O0i1L5PHsGdcwZVTYClO4w%3D%3D&trackingId=mca9wm2oqThDH%2FYBMtRO%2BQ%3D%3D', 'https://vn.linkedin.com/jobs/view/kyc-officer-vietnam-morning-day-shifts-at-cybertexex-4074882596?position=4&pageNum=0&refId=O0i1L5PHsGdcwZVTYClO4w%3D%3D&trackingId=DiAaaGR9Ih7hpHFtnaXHMw%3D%3D', 'https://vn.linkedin.com/jobs/view/overseas-remittance-staff-at-ctbc-bank-vietnam-4152673294?position=5&pageNum=0&refId=O0i1L5PHsGdcwZVTYClO4w%3D%3D&trackingId=4DmYDh2BhiRvTKIzLsHV5Q%3D%3D', 'https://vn.linkedin.com/jobs/view/associate-client-manager-ccib-at-standard-chartered-life-and-careers-4148266118?position=6&pageNum=0&refId=O0i1L5PHsGdcwZVTYClO4w%3D%3D&trackingId=b33ve0jYELCiPANRxuE1Vw%3D%3D', 'https://vn.linkedin.com/jobs/view/internal-auditor-hcm-at-sunjin-vi%E1%BB%87t-nam-4125929066?position=7&pageNum=0&refId=O0i1L5PHsGdcwZVTYClO4w%3D%3D&trackingId=qk2ua1jXuCH6dNCychRQiw%3D%3D', 'https://vn.linkedin.com/jobs/view/internal-audit-specialist-at-wanek-furniture-4135856224?position=8&pageNum=0&refId=O0i1L5PHsGdcwZVTYClO4w%3D%3D&trackingId=EPmmP%2Fp1m9%2Bap3Vv5zVs7w%3D%3D', 'https://vn.linkedin.com/jobs/view/supply-chain-executive-at-luxor-seating-system-4150420253?position=9&pageNum=0&refId=O0i1L5PHsGdcwZVTYClO4w%3D%3D&trackingId=CrOMLR3%2F6WBtZ7JLWrfS8w%3D%3D', 'https://vn.linkedin.com/jobs/view/tan-binh-hcm-%E2%80%93-customer-success-oversea-at-kiotviet-4126878009?position=10&pageNum=0&refId=O0i1L5PHsGdcwZVTYClO4w%3D%3D&trackingId=0pZ2jm8t8BCRdYhfWMdHmw%3D%3D', 'https://vn.linkedin.com/jobs/view/ki%E1%BB%83m-to%C3%A1n-vi%C3%AAn-n%E1%BB%99i-b%E1%BB%99-at-sunjin-vi%E1%BB%87t-nam-4134515452?position=11&pageNum=0&refId=O0i1L5PHsGdcwZVTYClO4w%3D%3D&trackingId=z52uUTsGxHWpFvnTgElZLg%3D%3D', 'https://vn.linkedin.com/jobs/view/kyc-officer-vietnam-evening-night-at-cybertexex-4131762553?position=12&pageNum=0&refId=O0i1L5PHsGdcwZVTYClO4w%3D%3D&trackingId=uNVwmHq2GMYgWfDubyvnhg%3D%3D', 'https://vn.linkedin.com/jobs/view/export-sales-executive-at-vietnam-mineral-powder-co-4141947861?position=13&pageNum=0&refId=O0i1L5PHsGdcwZVTYClO4w%3D%3D&trackingId=NR8D%2BVx822fu72GkHWiObw%3D%3D', 'https://vn.linkedin.com/jobs/view/asset-management-officer-at-jll-4128061431?position=14&pageNum=0&refId=O0i1L5PHsGdcwZVTYClO4w%3D%3D&trackingId=tYqD8MCuHBh%2FhV4vA0m%2FAA%3D%3D', 'https://vn.linkedin.com/jobs/view/risk-manager-bnpl-open-for-expat-at-jac-recruitment-4147163487?position=15&pageNum=0&refId=O0i1L5PHsGdcwZVTYClO4w%3D%3D&trackingId=kcxsAWXwRBdMmYTiKS1%2FPA%3D%3D', 'https://vn.linkedin.com/jobs/view/home-sales-executive-at-indochine-wellness-company-limited-4145290019?position=16&pageNum=0&refId=O0i1L5PHsGdcwZVTYClO4w%3D%3D&trackingId=OM5HW9%2BPgcxRPjgA0jva5Q%3D%3D', 'https://vn.linkedin.com/jobs/view/international-sales-executive-at-jobup-4149887364?position=18&pageNum=0&refId=O0i1L5PHsGdcwZVTYClO4w%3D%3D&trackingId=CLU00vkyaSnCBouDyMNhAg%3D%3D', 'https://vn.linkedin.com/jobs/view/international-sales-executive-at-jobup-4148440522?position=19&pageNum=0&refId=O0i1L5PHsGdcwZVTYClO4w%3D%3D&trackingId=KoBN%2Fm1daDcvLUJUV%2Fe%2FVg%3D%3D', 'https://vn.linkedin.com/jobs/view/assistant-relationship-manager-arm-fdi-center-h%C3%A0-n%E1%BB%99i-hcm-ta148-at-vpbank-4143141255?position=20&pageNum=0&refId=O0i1L5PHsGdcwZVTYClO4w%3D%3D&trackingId=sk5naTZT%2BR2Vm0XNRDSrGA%3D%3D', 'https://vn.linkedin.com/jobs/view/education-counsellor-tan-binh-office-at-idp-education-ltd-4142095876?position=21&pageNum=0&refId=O0i1L5PHsGdcwZVTYClO4w%3D%3D&trackingId=7fScsnYBoQTjmpvduLKVJQ%3D%3D', 'https://vn.linkedin.com/jobs/view/internal-audit-senior-manager-at-prudential-vietnam-assurance-private-ltd-4150174628?position=22&pageNum=0&refId=O0i1L5PHsGdcwZVTYClO4w%3D%3D&trackingId=Whr0zY6KxZuNcjk1J05xuw%3D%3D', 'https://vn.linkedin.com/jobs/view/cargo-account-executive-at-aviareps-group-4150360220?position=23&pageNum=0&refId=O0i1L5PHsGdcwZVTYClO4w%3D%3D&trackingId=EMWUdB82fKF9%2BjM5UecGZQ%3D%3D', 'https://vn.linkedin.com/jobs/view/hr-executive-at-dym-medical-clinic-4156150235?position=24&pageNum=0&refId=O0i1L5PHsGdcwZVTYClO4w%3D%3D&trackingId=g5jduLfP4yEPfsHqsSv78w%3D%3D', 'https://vn.linkedin.com/jobs/view/sales-executive-corporate-sales-partnership-at-glo365-4150027186?position=25&pageNum=0&refId=O0i1L5PHsGdcwZVTYClO4w%3D%3D&trackingId=aIJaV0%2FIwgQnUn%2B%2Bh8lksA%3D%3D', 'https://vn.linkedin.com/jobs/view/area-profit-asset-protection-manager-south-at-jd-sports-iberia-4118689684?position=26&pageNum=0&refId=O0i1L5PHsGdcwZVTYClO4w%3D%3D&trackingId=7okN8alS1sd36HqdNjzWZA%3D%3D', 'https://vn.linkedin.com/jobs/view/associate-client-manager-ccib-at-standard-chartered-4145680408?position=27&pageNum=0&refId=O0i1L5PHsGdcwZVTYClO4w%3D%3D&trackingId=r1Js570UMLoy7kczpKxMGQ%3D%3D', 'https://vn.linkedin.com/jobs/view/summer-internship-compliance-intern-at-liberty-mutual-insurance-3859950385?position=28&pageNum=0&refId=O0i1L5PHsGdcwZVTYClO4w%3D%3D&trackingId=6jEmKkuCoxGyNQVma3L3EA%3D%3D', 'https://vn.linkedin.com/jobs/view/v-i-e-assistant-relationship-manager-vietnam-h-f-at-bnp-paribas-4122422443?position=30&pageNum=0&refId=O0i1L5PHsGdcwZVTYClO4w%3D%3D&trackingId=z67l8%2ByOy%2Fmy9woXvU6y%2Fg%3D%3D', 'https://vn.linkedin.com/jobs/view/education-counsellor-all-destinations-hcm4-at-idp-education-ltd-4150502127?position=31&pageNum=0&refId=O0i1L5PHsGdcwZVTYClO4w%3D%3D&trackingId=zQ80Pdxpk9vSDIkOIiVSYg%3D%3D', 'https://vn.linkedin.com/jobs/view/pruventure-customer-relationship-senior-specialist-at-prudential-vietnam-assurance-private-ltd-4112906513?position=33&pageNum=0&refId=O0i1L5PHsGdcwZVTYClO4w%3D%3D&trackingId=h1wZskuklGpwKMQVRgLHYw%3D%3D', 'https://vn.linkedin.com/jobs/view/due-diligence-analyst-kyc-kyb-vietnam-at-payreto-4053765136?position=34&pageNum=0&refId=O0i1L5PHsGdcwZVTYClO4w%3D%3D&trackingId=Gu5zItTHd5OCePkdQ8pZwg%3D%3D', 'https://vn.linkedin.com/jobs/view/credit-risk-officer-risk-data-analyst-at-truemoney-vietnam-4148525327?position=35&pageNum=0&refId=O0i1L5PHsGdcwZVTYClO4w%3D%3D&trackingId=KEyNAEkuhsWDZCMmcLf8XQ%3D%3D', 'https://vn.linkedin.com/jobs/view/payment-officer-po-at-moneycat-vietnam-4148530250?position=36&pageNum=0&refId=O0i1L5PHsGdcwZVTYClO4w%3D%3D&trackingId=7YjVmbQBnL19r7f%2FLdQKjA%3D%3D', 'https://vn.linkedin.com/jobs/view/risk-management-officer-nh%C3%A2n-vi%C3%AAn-qu%E1%BA%A3n-l%C3%BD-r%E1%BB%A7i-ro-at-chailease-international-leasing-co-ltd-4151828138?position=37&pageNum=0&refId=O0i1L5PHsGdcwZVTYClO4w%3D%3D&trackingId=xEIOzzHXmc9CKscWYVybng%3D%3D', 'https://vn.linkedin.com/jobs/view/458-administration-officer-hot-urgent-at-aeon-mall-4149108558?position=38&pageNum=0&refId=O0i1L5PHsGdcwZVTYClO4w%3D%3D&trackingId=B7BVxCr6LjP7aRYgkUXxEQ%3D%3D', 'https://vn.linkedin.com/jobs/view/business-risk-control-senior-officer-aml-at-uob-4109251159?position=39&pageNum=0&refId=O0i1L5PHsGdcwZVTYClO4w%3D%3D&trackingId=KnX499N6T0d7f2%2Buq%2BLY8w%3D%3D', 'https://vn.linkedin.com/jobs/view/risk-officer-instant-coffee-work-location-district-3-at-jobs-for-humanity-4133350069?position=40&pageNum=0&refId=O0i1L5PHsGdcwZVTYClO4w%3D%3D&trackingId=EgGw4LhbntSgSG8XR7mAuw%3D%3D', 'https://vn.linkedin.com/jobs/view/intern-associate-it-risk-assurance-at-pwc-vietnam-4151216962?position=41&pageNum=0&refId=O0i1L5PHsGdcwZVTYClO4w%3D%3D&trackingId=3mtwIuQ9900h34kVpBJTqw%3D%3D', 'https://vn.linkedin.com/jobs/view/hr-assistant-da-nang-at-avepoint-public-sector-4147913616?position=42&pageNum=0&refId=O0i1L5PHsGdcwZVTYClO4w%3D%3D&trackingId=3%2BHpjDmqA1P2uewDLsfNww%3D%3D', 'https://vn.linkedin.com/jobs/view/fi-mm-alm-professional-at-ch%E1%BB%A9ng-kho%C3%A1n-kafi-4150362473?position=43&pageNum=0&refId=O0i1L5PHsGdcwZVTYClO4w%3D%3D&trackingId=jm2b5VDwwrgW4NIJoQGuzA%3D%3D', 'https://vn.linkedin.com/jobs/view/chuy%C3%AAn-vi%C3%AAn-ph%C3%A2n-t%C3%ADch-t%C3%ADn-d%E1%BB%A5ng-at-fiingroup-4138584895?position=44&pageNum=0&refId=O0i1L5PHsGdcwZVTYClO4w%3D%3D&trackingId=PCUDmcq7qUMAug%2BeOTBRDQ%3D%3D', 'https://vn.linkedin.com/jobs/view/collections-data-analyst-at-vpbank-4150971855?position=45&pageNum=0&refId=O0i1L5PHsGdcwZVTYClO4w%3D%3D&trackingId=q41IC%2BY%2B9rmg3xW8CcU1qQ%3D%3D', 'https://vn.linkedin.com/jobs/view/country-fund-associate-vietnam-at-palladium-make-it-possible-4034773823?position=46&pageNum=0&refId=O0i1L5PHsGdcwZVTYClO4w%3D%3D&trackingId=0K86zwHJ4SgSgfnreY4sJw%3D%3D', 'https://vn.linkedin.com/jobs/view/insurance-claim-officer-at-fv-hospital-vietnam-4150031630?position=47&pageNum=0&refId=O0i1L5PHsGdcwZVTYClO4w%3D%3D&trackingId=ddug5h2w%2FkDDuk4pnaqlcw%3D%3D', 'https://vn.linkedin.com/jobs/view/customer-financial-service-express-delivery-at-enterprise-south-vietnam-4151249372?position=48&pageNum=0&refId=O0i1L5PHsGdcwZVTYClO4w%3D%3D&trackingId=SNtklXYE%2FrievXH3jLaYeg%3D%3D', 'https://vn.linkedin.com/jobs/view/internal-security-specialist-at-masan-consumer-holdings-4157164028?position=49&pageNum=0&refId=O0i1L5PHsGdcwZVTYClO4w%3D%3D&trackingId=0UwzihPEiFNm6QOFNlSwTw%3D%3D', 'https://vn.linkedin.com/jobs/view/insurance-officer-at-fv-hospital-vietnam-4150033195?position=50&pageNum=0&refId=O0i1L5PHsGdcwZVTYClO4w%3D%3D&trackingId=k8QG9ufuROCnSWGevWG5XQ%3D%3D', 'https://vn.linkedin.com/jobs/view/claim-executive-at-fuse-group-4146525377?position=51&pageNum=0&refId=O0i1L5PHsGdcwZVTYClO4w%3D%3D&trackingId=YhY%2Fkw%2Fc7pSWdze%2FT34%2F4Q%3D%3D', 'https://vn.linkedin.com/jobs/view/c-b-intern-at-talentnet-careers-4151228246?position=52&pageNum=0&refId=O0i1L5PHsGdcwZVTYClO4w%3D%3D&trackingId=n3r5ra43IPzGZV3yAhVMiQ%3D%3D', 'https://vn.linkedin.com/jobs/view/hse-staff-at-luxor-seating-system-4149627504?position=53&pageNum=0&refId=O0i1L5PHsGdcwZVTYClO4w%3D%3D&trackingId=ju0LOOTyFndUiJrFCeAcwg%3D%3D', 'https://vn.linkedin.com/jobs/view/hr-assistant-hanoi-at-avepoint-public-sector-4147918174?position=54&pageNum=0&refId=O0i1L5PHsGdcwZVTYClO4w%3D%3D&trackingId=BOmlr%2BJ9yuAkpopZQYDvsg%3D%3D', 'https://vn.linkedin.com/jobs/view/treasury-analyst-at-mediadonuts-by-aleph-4061489693?position=55&pageNum=0&refId=O0i1L5PHsGdcwZVTYClO4w%3D%3D&trackingId=yhjmRXkNyIPY11jCeVgpWw%3D%3D', 'https://vn.linkedin.com/jobs/view/environmental-health-safety-specialist-at-julie-sandlau-vietnam-co-ltd-4147290177?position=56&pageNum=0&refId=O0i1L5PHsGdcwZVTYClO4w%3D%3D&trackingId=9gNgVXLUXA5hLRyg8ZolxQ%3D%3D', 'https://vn.linkedin.com/jobs/view/data-entry-operator-at-socotec-4148762015?position=57&pageNum=0&refId=O0i1L5PHsGdcwZVTYClO4w%3D%3D&trackingId=q0OAhMav61BvSpYs%2Bx8nXA%3D%3D', 'https://vn.linkedin.com/jobs/view/database-officer-at-exo-travel-4152812162?position=58&pageNum=0&refId=O0i1L5PHsGdcwZVTYClO4w%3D%3D&trackingId=PMsdvIZ8OVvr1ePF0HdhPw%3D%3D', 'https://vn.linkedin.com/jobs/view/ehs-environement-health-and-safety-specialist-at-sagemcom-4150506877?position=59&pageNum=0&refId=O0i1L5PHsGdcwZVTYClO4w%3D%3D&trackingId=xwuOSrThJoKD68Rg7HlH7w%3D%3D', 'https://vn.linkedin.com/jobs/view/tuy%E1%BB%83n-d%E1%BB%A5ng-k%E1%BA%BF-to%C3%A1n-n%E1%BB%99i-b%E1%BB%99-giao-ti%E1%BA%BFp-ti%E1%BA%BFng-anh-internal-accountant-at-atc-wine-merchant-4142960704?position=1&pageNum=7&refId=RUjochog5njCVU9XSmFdvw%3D%3D&trackingId=JtQeyh2N%2BDspfMLjTi70Og%3D%3D', 'https://vn.linkedin.com/jobs/view/air-cargo-sales-at-sky-global-logistics-services-vietnam-4145515341?position=2&pageNum=7&refId=RUjochog5njCVU9XSmFdvw%3D%3D&trackingId=y6P8PsmZ0IiwUDWSivZ2RQ%3D%3D', 'https://vn.linkedin.com/jobs/view/hr-operations-outsourcing-at-uob-4058220995?position=3&pageNum=7&refId=RUjochog5njCVU9XSmFdvw%3D%3D&trackingId=%2FHXEOEzC%2FoEZ1VcNnkKugw%3D%3D', 'https://vn.linkedin.com/jobs/view/qa-staff-iqc-at-luxor-seating-system-4150416865?position=4&pageNum=7&refId=RUjochog5njCVU9XSmFdvw%3D%3D&trackingId=1QK%2FZ7rJiJsezxTBH0kTMA%3D%3D', 'https://vn.linkedin.com/jobs/view/site-engineer-c-s-at-archetype-group-4141906585?position=5&pageNum=7&refId=RUjochog5njCVU9XSmFdvw%3D%3D&trackingId=kn%2FMnqWKhcXPdEJPGeJx%2Fw%3D%3D', 'https://vn.linkedin.com/jobs/view/office-admin-hanoi-at-avepoint-4111108827?position=6&pageNum=7&refId=RUjochog5njCVU9XSmFdvw%3D%3D&trackingId=23Ee1WszpENiBgbWkm1eKg%3D%3D', 'https://vn.linkedin.com/jobs/view/office-admin-danang-at-avepoint-4129805194?position=7&pageNum=7&refId=RUjochog5njCVU9XSmFdvw%3D%3D&trackingId=%2Fa2rbp%2BkIgLQXZKJpPxzxw%3D%3D', 'https://vn.linkedin.com/jobs/view/behavioral-technician-training-provided-at-redlands-chamber-of-commerce-4091315741?position=8&pageNum=7&refId=RUjochog5njCVU9XSmFdvw%3D%3D&trackingId=n0IJudYkJny%2B8U9RXkF0UQ%3D%3D', 'https://vn.linkedin.com/jobs/view/manufacturing-engineer-at-today-s-hot-jobs-outsourcing-service-4156127889?position=9&pageNum=7&refId=RUjochog5njCVU9XSmFdvw%3D%3D&trackingId=T2AuVLO7%2FA%2BOZ9f%2FPfz0Hg%3D%3D', 'https://vn.linkedin.com/jobs/view/claim-executive-at-fuse-group-4146525377?position=1&pageNum=5&refId=nfjtICEjsKvciY2ujk47Eg%3D%3D&trackingId=WcT0JvOpFZmwZGzV1DMjcA%3D%3D', 'https://vn.linkedin.com/jobs/view/hse-staff-at-luxor-seating-system-4149627504?position=2&pageNum=5&refId=nfjtICEjsKvciY2ujk47Eg%3D%3D&trackingId=N%2BcDVdVyLNRYQztuPOrFNA%3D%3D', 'https://vn.linkedin.com/jobs/view/insurance-officer-at-fv-hospital-vietnam-4150033195?position=3&pageNum=5&refId=nfjtICEjsKvciY2ujk47Eg%3D%3D&trackingId=eJjk7JVFzmfGSZOTRPD%2F9g%3D%3D', 'https://vn.linkedin.com/jobs/view/hr-assistant-hanoi-at-avepoint-public-sector-4147918174?position=4&pageNum=5&refId=nfjtICEjsKvciY2ujk47Eg%3D%3D&trackingId=iA%2FOAoK8AWGwHOnN2XQ7RA%3D%3D', 'https://vn.linkedin.com/jobs/view/treasury-analyst-at-mediadonuts-by-aleph-4061489693?position=5&pageNum=5&refId=nfjtICEjsKvciY2ujk47Eg%3D%3D&trackingId=s6Y6YLRx%2BxZ2cffe6fezQQ%3D%3D', 'https://vn.linkedin.com/jobs/view/environmental-health-safety-specialist-at-julie-sandlau-vietnam-co-ltd-4147290177?position=6&pageNum=5&refId=nfjtICEjsKvciY2ujk47Eg%3D%3D&trackingId=CfyKHgepR%2BDeAly3MTBZhA%3D%3D', 'https://vn.linkedin.com/jobs/view/database-officer-at-exo-travel-4152812162?position=7&pageNum=5&refId=nfjtICEjsKvciY2ujk47Eg%3D%3D&trackingId=vbtaXF8%2FxN%2BCnk%2FvQsDZCQ%3D%3D', 'https://vn.linkedin.com/jobs/view/ehs-environement-health-and-safety-specialist-at-sagemcom-4150506877?position=9&pageNum=5&refId=nfjtICEjsKvciY2ujk47Eg%3D%3D&trackingId=CIXcWfp9igfxuidEpB8FAA%3D%3D', 'https://vn.linkedin.com/jobs/view/quality-staff-for-footwear-at-decathlon-vietnam-4144691531?position=10&pageNum=5&refId=nfjtICEjsKvciY2ujk47Eg%3D%3D&trackingId=PaMMJhBK7NPKGR05g6btPQ%3D%3D', 'https://vn.linkedin.com/jobs/view/area-profit-asset-protection-manager-south-at-jd-sports-iberia-4118689684?position=1&pageNum=2&refId=V4iFYVmBobfm1RWowKsEFQ%3D%3D&trackingId=WQHTlJgI96tRSR5saNsZAA%3D%3D', 'https://vn.linkedin.com/jobs/view/associate-client-manager-ccib-at-standard-chartered-4145680408?position=2&pageNum=2&refId=V4iFYVmBobfm1RWowKsEFQ%3D%3D&trackingId=u9kbgWrlllSr2tLWnQJjvg%3D%3D', 'https://vn.linkedin.com/jobs/view/summer-internship-compliance-intern-at-liberty-mutual-insurance-3859950385?position=3&pageNum=2&refId=V4iFYVmBobfm1RWowKsEFQ%3D%3D&trackingId=GaezTH%2FIs6ks2z%2F5P%2Bbo7g%3D%3D', 'https://vn.linkedin.com/jobs/view/v-i-e-assistant-relationship-manager-vietnam-h-f-at-bnp-paribas-4122422443?position=5&pageNum=2&refId=V4iFYVmBobfm1RWowKsEFQ%3D%3D&trackingId=mOm7JJAxGFugv517%2BTVhUQ%3D%3D', 'https://vn.linkedin.com/jobs/view/education-counsellor-all-destinations-hcm4-at-idp-education-ltd-4150502127?position=6&pageNum=2&refId=V4iFYVmBobfm1RWowKsEFQ%3D%3D&trackingId=b5KAcR4F13kIbiNVu9uKxQ%3D%3D', 'https://vn.linkedin.com/jobs/view/pruventure-customer-relationship-senior-specialist-at-prudential-vietnam-assurance-private-ltd-4112906513?position=8&pageNum=2&refId=V4iFYVmBobfm1RWowKsEFQ%3D%3D&trackingId=wOKXCTp5rewTzuVo0vxzAQ%3D%3D', 'https://vn.linkedin.com/jobs/view/due-diligence-analyst-kyc-kyb-vietnam-at-payreto-4053765136?position=9&pageNum=2&refId=V4iFYVmBobfm1RWowKsEFQ%3D%3D&trackingId=SHG0p5%2FGhW5%2FcO6%2FkJGB3g%3D%3D', 'https://vn.linkedin.com/jobs/view/credit-risk-officer-risk-data-analyst-at-truemoney-vietnam-4148525327?position=10&pageNum=2&refId=V4iFYVmBobfm1RWowKsEFQ%3D%3D&trackingId=6gI%2FXpxOwuqLH0IXXv686A%3D%3D']\n"
     ]
    }
   ],
   "source": [
    "async def run():\n",
    "    job_search_data = await scrape_job_search(\n",
    "        keyword=\"financial risk management\", max_pages = 10\n",
    "    )\n",
    "    print(job_search_data)\n",
    "    # Save the data to a JSON file\n",
    "    with open(\"u2_financial_risk_management.json\", \"w\", encoding=\"utf-8\") as file:\n",
    "        json.dump(job_search_data, file, indent=2, ensure_ascii=False)\n",
    "\n",
    "# Directly use `await` in the interactive shell\n",
    "await run()"
   ]
  },
  {
   "cell_type": "markdown",
   "id": "ed474db6-a2f4-41c9-b7bf-67fe4f895310",
   "metadata": {},
   "source": [
    "# 2. Scrape job details"
   ]
  },
  {
   "cell_type": "code",
   "execution_count": null,
   "id": "a17d8ba8-d801-4288-bfe0-9c02b182c59f",
   "metadata": {},
   "outputs": [],
   "source": [
    "file_path = '/Users/nhuyenhuynh/u2_financial_risk_management.json'  \n",
    "with open(file_path, 'r', encoding='utf-8') as file:\n",
    "    json_data = json.load(file)\n",
    "urls = [item for item in json_data]"
   ]
  },
  {
   "cell_type": "code",
   "execution_count": null,
   "id": "c1a1af12-0eeb-4629-80f9-54af945127f1",
   "metadata": {},
   "outputs": [],
   "source": [
    "# Function to save the descriptions to a .txt or .json file\n",
    "def save_descriptions_to_file(descriptions):\n",
    "    file_path_json = '/Users/nhuyenhuynh/d2_financial_risk_management.json'\n",
    "\n",
    "    try:\n",
    "        # Optionally save as .json file (formatted JSON)\n",
    "        with open(file_path_json, 'w', encoding='utf-8') as file:\n",
    "            json.dump(descriptions, file, ensure_ascii=False, indent=4)\n",
    "        print(f\"Descriptions saved to {file_path_json}\")\n",
    "\n",
    "    except Exception as e:\n",
    "        print(f\"Error saving descriptions to file: {e}\")"
   ]
  },
  {
   "cell_type": "code",
   "execution_count": null,
   "id": "5534cabc-3622-4931-8e5b-39ba65241e0f",
   "metadata": {},
   "outputs": [],
   "source": [
    "async def scrape_urls():\n",
    "    to_scrape = [\n",
    "        ScrapeConfig(url, **BASE_CONFIG) for url in urls\n",
    "    ]\n",
    "    \n",
    "    # Initialize a list to store the cleaned descriptions\n",
    "    descriptions = []\n",
    "\n",
    "    async for response in SCRAPFLY.concurrent_scrape(to_scrape):\n",
    "        try:\n",
    "            if response.status_code == 200:\n",
    "                # Get the HTML content\n",
    "                content = response.scrape_result['content']\n",
    "                \n",
    "                # Parse the HTML content\n",
    "                tree = html.fromstring(content)\n",
    "                \n",
    "                # Extract the JSON content from the <script> tag\n",
    "                json_script = tree.xpath('//script[@type=\"application/ld+json\"]/text()')\n",
    "                \n",
    "                # If the script is found and contains valid JSON, parse it\n",
    "                if json_script:\n",
    "                    try:\n",
    "                        job_posting_data = json.loads(json_script[0])  # Parse the first matching script tag\n",
    "                        description = job_posting_data.get(\"description\", \"\")\n",
    "                        \n",
    "                        # Decode HTML entities (e.g., &lt;br&gt; to <br>)\n",
    "                        description_cleaned = unescape(description)\n",
    "                        \n",
    "                        # Remove any remaining HTML tags\n",
    "                        description_no_tags = re.sub(r'<.*?>', ' ', description_cleaned)\n",
    "                        \n",
    "                        # Append the cleaned description to the list\n",
    "                        descriptions.append(description_no_tags)\n",
    "                        \n",
    "                \n",
    "                    except json.JSONDecodeError as e:\n",
    "                        print(f\"Failed to decode JSON: {e}\")\n",
    "                else:\n",
    "                    print(\"No <script> tag with type 'application/ld+json' found\")\n",
    "                \n",
    "            else:\n",
    "                log.error(f\"Failed to scrape: Status code {response.status_code}\")\n",
    "                return None\n",
    "                \n",
    "        except Exception as e:\n",
    "            log.error(f\"Error processing response: {str(e)}\")\n",
    "            return None\n",
    "\n",
    "    # Save the descriptions to a file after scraping is complete\n",
    "    save_descriptions_to_file(descriptions)\n",
    "\n",
    "    # Return descriptions if needed\n",
    "    return 'finish the scraping'"
   ]
  },
  {
   "cell_type": "code",
   "execution_count": null,
   "id": "a8d15dd3-d924-409b-86fe-3761cfcfb75b",
   "metadata": {},
   "outputs": [],
   "source": [
    "if __name__ == \"__main__\":\n",
    "    if not asyncio.get_event_loop().is_running():\n",
    "        result = asyncio.run(scrape_urls())\n",
    "    else:\n",
    "        result = await scrape_urls()"
   ]
  }
 ],
 "metadata": {
  "kernelspec": {
   "display_name": "Python 3 (ipykernel)",
   "language": "python",
   "name": "python3"
  },
  "language_info": {
   "codemirror_mode": {
    "name": "ipython",
    "version": 3
   },
   "file_extension": ".py",
   "mimetype": "text/x-python",
   "name": "python",
   "nbconvert_exporter": "python",
   "pygments_lexer": "ipython3",
   "version": "3.12.7"
  }
 },
 "nbformat": 4,
 "nbformat_minor": 5
}
